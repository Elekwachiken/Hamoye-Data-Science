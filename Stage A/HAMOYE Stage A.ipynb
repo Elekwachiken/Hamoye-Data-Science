{
 "cells": [
  {
   "cell_type": "markdown",
   "id": "5b01558d",
   "metadata": {},
   "source": [
    "## Hamoye Python Programming Graded Quiz"
   ]
  },
  {
   "cell_type": "code",
   "execution_count": 1,
   "id": "5bf8387d",
   "metadata": {},
   "outputs": [],
   "source": [
    "import pandas as pd\n",
    "import numpy as np\n",
    "import matplotlib.pyplot as plt\n",
    "import seaborn as sns"
   ]
  },
  {
   "cell_type": "code",
   "execution_count": 2,
   "id": "2bd6456d",
   "metadata": {},
   "outputs": [
    {
     "data": {
      "text/html": [
       "<div>\n",
       "<style scoped>\n",
       "    .dataframe tbody tr th:only-of-type {\n",
       "        vertical-align: middle;\n",
       "    }\n",
       "\n",
       "    .dataframe tbody tr th {\n",
       "        vertical-align: top;\n",
       "    }\n",
       "\n",
       "    .dataframe thead th {\n",
       "        text-align: right;\n",
       "    }\n",
       "</style>\n",
       "<table border=\"1\" class=\"dataframe\">\n",
       "  <thead>\n",
       "    <tr style=\"text-align: right;\">\n",
       "      <th></th>\n",
       "      <th>Area Code</th>\n",
       "      <th>Area</th>\n",
       "      <th>Item Code</th>\n",
       "      <th>Item</th>\n",
       "      <th>Element Code</th>\n",
       "      <th>Element</th>\n",
       "      <th>Unit</th>\n",
       "      <th>Y2014</th>\n",
       "      <th>Y2015</th>\n",
       "      <th>Y2016</th>\n",
       "      <th>Y2017</th>\n",
       "      <th>Y2018</th>\n",
       "    </tr>\n",
       "  </thead>\n",
       "  <tbody>\n",
       "    <tr>\n",
       "      <th>0</th>\n",
       "      <td>4</td>\n",
       "      <td>Algeria</td>\n",
       "      <td>2501</td>\n",
       "      <td>Population</td>\n",
       "      <td>511</td>\n",
       "      <td>Total Population - Both sexes</td>\n",
       "      <td>1000 persons</td>\n",
       "      <td>38924.00</td>\n",
       "      <td>39728.00</td>\n",
       "      <td>40551.00</td>\n",
       "      <td>41389.00</td>\n",
       "      <td>42228.00</td>\n",
       "    </tr>\n",
       "    <tr>\n",
       "      <th>1</th>\n",
       "      <td>4</td>\n",
       "      <td>Algeria</td>\n",
       "      <td>2501</td>\n",
       "      <td>Population</td>\n",
       "      <td>5301</td>\n",
       "      <td>Domestic supply quantity</td>\n",
       "      <td>1000 tonnes</td>\n",
       "      <td>0.00</td>\n",
       "      <td>0.00</td>\n",
       "      <td>0.00</td>\n",
       "      <td>0.00</td>\n",
       "      <td>0.00</td>\n",
       "    </tr>\n",
       "    <tr>\n",
       "      <th>2</th>\n",
       "      <td>4</td>\n",
       "      <td>Algeria</td>\n",
       "      <td>2901</td>\n",
       "      <td>Grand Total</td>\n",
       "      <td>664</td>\n",
       "      <td>Food supply (kcal/capita/day)</td>\n",
       "      <td>kcal/capita/day</td>\n",
       "      <td>3377.00</td>\n",
       "      <td>3379.00</td>\n",
       "      <td>3372.00</td>\n",
       "      <td>3341.00</td>\n",
       "      <td>3322.00</td>\n",
       "    </tr>\n",
       "    <tr>\n",
       "      <th>3</th>\n",
       "      <td>4</td>\n",
       "      <td>Algeria</td>\n",
       "      <td>2901</td>\n",
       "      <td>Grand Total</td>\n",
       "      <td>674</td>\n",
       "      <td>Protein supply quantity (g/capita/day)</td>\n",
       "      <td>g/capita/day</td>\n",
       "      <td>94.90</td>\n",
       "      <td>94.35</td>\n",
       "      <td>94.72</td>\n",
       "      <td>92.82</td>\n",
       "      <td>91.83</td>\n",
       "    </tr>\n",
       "    <tr>\n",
       "      <th>4</th>\n",
       "      <td>4</td>\n",
       "      <td>Algeria</td>\n",
       "      <td>2901</td>\n",
       "      <td>Grand Total</td>\n",
       "      <td>684</td>\n",
       "      <td>Fat supply quantity (g/capita/day)</td>\n",
       "      <td>g/capita/day</td>\n",
       "      <td>80.06</td>\n",
       "      <td>79.36</td>\n",
       "      <td>77.40</td>\n",
       "      <td>80.19</td>\n",
       "      <td>77.28</td>\n",
       "    </tr>\n",
       "  </tbody>\n",
       "</table>\n",
       "</div>"
      ],
      "text/plain": [
       "   Area Code     Area  Item Code         Item  Element Code  \\\n",
       "0          4  Algeria       2501   Population           511   \n",
       "1          4  Algeria       2501   Population          5301   \n",
       "2          4  Algeria       2901  Grand Total           664   \n",
       "3          4  Algeria       2901  Grand Total           674   \n",
       "4          4  Algeria       2901  Grand Total           684   \n",
       "\n",
       "                                  Element             Unit     Y2014  \\\n",
       "0           Total Population - Both sexes     1000 persons  38924.00   \n",
       "1                Domestic supply quantity      1000 tonnes      0.00   \n",
       "2           Food supply (kcal/capita/day)  kcal/capita/day   3377.00   \n",
       "3  Protein supply quantity (g/capita/day)     g/capita/day     94.90   \n",
       "4      Fat supply quantity (g/capita/day)     g/capita/day     80.06   \n",
       "\n",
       "      Y2015     Y2016     Y2017     Y2018  \n",
       "0  39728.00  40551.00  41389.00  42228.00  \n",
       "1      0.00      0.00      0.00      0.00  \n",
       "2   3379.00   3372.00   3341.00   3322.00  \n",
       "3     94.35     94.72     92.82     91.83  \n",
       "4     79.36     77.40     80.19     77.28  "
      ]
     },
     "execution_count": 2,
     "metadata": {},
     "output_type": "execute_result"
    }
   ],
   "source": [
    "fao_df = pd.read_csv('FoodBalanceSheets_E_Africa_NOFLAG.csv', encoding='latin-1')\n",
    "fao_df.head()"
   ]
  },
  {
   "cell_type": "code",
   "execution_count": 19,
   "id": "35baec5a",
   "metadata": {},
   "outputs": [
    {
     "name": "stdout",
     "output_type": "stream",
     "text": [
      "140.9177648602722\n",
      "1671.8623590572788\n"
     ]
    }
   ],
   "source": [
    "print(fao_df['Y2017'].mean())\n",
    "print(fao_df['Y2017'].std())"
   ]
  },
  {
   "cell_type": "code",
   "execution_count": 22,
   "id": "dff7c75e",
   "metadata": {},
   "outputs": [
    {
     "data": {
      "text/plain": [
       "(60943, 12)"
      ]
     },
     "execution_count": 22,
     "metadata": {},
     "output_type": "execute_result"
    }
   ],
   "source": [
    "fao_df.shape"
   ]
  },
  {
   "cell_type": "code",
   "execution_count": 25,
   "id": "4e186f9b",
   "metadata": {},
   "outputs": [
    {
     "name": "stderr",
     "output_type": "stream",
     "text": [
      "C:\\Users\\SD-0037\\AppData\\Local\\Temp\\ipykernel_39932\\1830050552.py:1: FutureWarning: The default value of numeric_only in DataFrame.corr is deprecated. In a future version, it will default to False. Select only valid columns or specify the value of numeric_only to silence this warning.\n",
      "  fao_df.corr()['Element Code']\n"
     ]
    },
    {
     "data": {
      "text/plain": [
       "Area Code      -0.000209\n",
       "Item Code      -0.024683\n",
       "Element Code    1.000000\n",
       "Y2014           0.024457\n",
       "Y2015           0.023889\n",
       "Y2016           0.023444\n",
       "Y2017           0.024254\n",
       "Y2018           0.024279\n",
       "Name: Element Code, dtype: float64"
      ]
     },
     "execution_count": 25,
     "metadata": {},
     "output_type": "execute_result"
    }
   ],
   "source": [
    "fao_df.corr()['Element Code']"
   ]
  },
  {
   "cell_type": "code",
   "execution_count": 29,
   "id": "27dffc61",
   "metadata": {},
   "outputs": [
    {
     "data": {
      "text/plain": [
       "Area\n",
       "Nigeria         1483268.23\n",
       "Egypt            866379.92\n",
       "South Africa     517590.54\n",
       "Ethiopia         448683.76\n",
       "Morocco          388495.36\n",
       "Name: Y2017, dtype: float64"
      ]
     },
     "execution_count": 29,
     "metadata": {},
     "output_type": "execute_result"
    }
   ],
   "source": [
    "fao_df.groupby('Area')['Y2017'].sum().sort_values(ascending=False).head()"
   ]
  },
  {
   "cell_type": "code",
   "execution_count": 31,
   "id": "73159ff0",
   "metadata": {},
   "outputs": [
    {
     "data": {
      "text/plain": [
       "Element\n",
       "Domestic supply quantity                  2088198.10\n",
       "Export Quantity                            182338.80\n",
       "Fat supply quantity (g/capita/day)          10253.84\n",
       "Feed                                       223705.68\n",
       "Food                                      1258888.28\n",
       "Food supply (kcal/capita/day)              454681.00\n",
       "Food supply quantity (kg/capita/yr)         48690.04\n",
       "Import Quantity                            294559.09\n",
       "Losses                                     160614.00\n",
       "Other uses (non-food)                       91645.97\n",
       "Processing                                 292836.00\n",
       "Production                                2030056.89\n",
       "Protein supply quantity (g/capita/day)      11842.45\n",
       "Residuals                                   35500.00\n",
       "Seed                                        24870.14\n",
       "Stock Variation                             54316.91\n",
       "Total Population - Both sexes             1112641.00\n",
       "Tourist consumption                            91.00\n",
       "Name: Y2017, dtype: float64"
      ]
     },
     "execution_count": 31,
     "metadata": {},
     "output_type": "execute_result"
    }
   ],
   "source": [
    "fao_df.groupby('Element')['Y2017'].sum()"
   ]
  },
  {
   "cell_type": "code",
   "execution_count": 36,
   "id": "77d139f3",
   "metadata": {},
   "outputs": [
    {
     "name": "stdout",
     "output_type": "stream",
     "text": [
      "2014 Missing data: 1589\n",
      "2014 % of missing data: 2.6073544131401474\n"
     ]
    }
   ],
   "source": [
    "print('2014 Missing data: ' + str(fao_df['Y2014'].isnull().sum()))\n",
    "print('2014 % of missing data: ' + str(fao_df['Y2014'].isnull().sum()/len(fao_df['Y2014']) * 100))"
   ]
  },
  {
   "cell_type": "code",
   "execution_count": 39,
   "id": "0e71e530",
   "metadata": {},
   "outputs": [
    {
     "data": {
      "text/plain": [
       "173.04999999999998"
      ]
     },
     "execution_count": 39,
     "metadata": {},
     "output_type": "execute_result"
    }
   ],
   "source": [
    "fao_df[(fao_df['Area'] == 'Madagascar') & (fao_df['Element'] == 'Protein supply quantity (g/capita/day)')]['Y2015'].sum()"
   ]
  },
  {
   "cell_type": "code",
   "execution_count": 42,
   "id": "75a5bc43",
   "metadata": {},
   "outputs": [
    {
     "name": "stdout",
     "output_type": "stream",
     "text": [
      "Item\n",
      "Alcohol, Non-Food        2180.00\n",
      "Alcoholic Beverages     98783.72\n",
      "Animal Products         11811.73\n",
      "Animal fats            200675.72\n",
      "Apples and products     10559.15\n",
      "                         ...    \n",
      "Vegetables, Other      158104.08\n",
      "Vegetal Products       107064.17\n",
      "Wheat and products     234710.51\n",
      "Wine                     4251.81\n",
      "Yams                   203151.78\n",
      "Name: Y2015, Length: 119, dtype: float64\n",
      "Item\n",
      "Alcohol, Non-Food        2293.00\n",
      "Alcoholic Beverages     97847.27\n",
      "Animal Products         11578.61\n",
      "Animal fats            269648.27\n",
      "Apples and products      9640.51\n",
      "                         ...    \n",
      "Vegetables, Other      163987.21\n",
      "Vegetal Products       107775.39\n",
      "Wheat and products     242645.19\n",
      "Wine                     4039.32\n",
      "Yams                   221272.09\n",
      "Name: Y2018, Length: 119, dtype: float64\n"
     ]
    }
   ],
   "source": [
    "print(fao_df.groupby('Item')['Y2015'].sum())\n",
    "print(fao_df.groupby('Item')['Y2018'].sum())"
   ]
  },
  {
   "cell_type": "code",
   "execution_count": 44,
   "id": "2adb7b07",
   "metadata": {},
   "outputs": [
    {
     "name": "stdout",
     "output_type": "stream",
     "text": [
      "                                             Y2014       Y2015       Y2016  \\\n",
      "Element                                                                      \n",
      "Domestic supply quantity                1996716.35  2021493.55  2044842.70   \n",
      "Export Quantity                          150020.64   157614.47   151920.46   \n",
      "Fat supply quantity (g/capita/day)        10225.56    10235.74    10102.77   \n",
      "Feed                                     216927.89   225050.22   228958.65   \n",
      "Food                                    1212332.49  1232361.10  1247022.17   \n",
      "Food supply (kcal/capita/day)            454257.00   453383.00   451810.00   \n",
      "Food supply quantity (kg/capita/yr)       49650.63    49345.13    48985.28   \n",
      "Import Quantity                          274144.48   267018.46   286582.78   \n",
      "Losses                                   153223.00   155439.00   157787.00   \n",
      "Other uses (non-food)                     78718.13    66254.41    69563.68   \n",
      "Processing                               282923.00   287929.00   280631.00   \n",
      "Production                              1931287.75  1947019.39  1943537.15   \n",
      "Protein supply quantity (g/capita/day)    11836.46    11833.95    11779.69   \n",
      "Residuals                                 30149.00    30045.00    37224.00   \n",
      "Seed                                      21922.92    23976.82    23389.20   \n",
      "Stock Variation                           58749.83    34910.99    33140.12   \n",
      "Total Population - Both sexes           1031585.00  1058081.00  1085107.00   \n",
      "Tourist consumption                         416.00      349.00       89.00   \n",
      "\n",
      "                                             Y2017       Y2018  \n",
      "Element                                                         \n",
      "Domestic supply quantity                2088198.10  2161192.10  \n",
      "Export Quantity                          182338.80   181594.80  \n",
      "Fat supply quantity (g/capita/day)        10253.84    10258.69  \n",
      "Feed                                     223705.68   233489.68  \n",
      "Food                                    1258888.28  1303841.28  \n",
      "Food supply (kcal/capita/day)            454681.00   455261.00  \n",
      "Food supply quantity (kg/capita/yr)       48690.04    49056.85  \n",
      "Import Quantity                          294559.09   287997.09  \n",
      "Losses                                   160614.00   163902.00  \n",
      "Other uses (non-food)                     91645.97    91300.97  \n",
      "Processing                               292836.00   308429.00  \n",
      "Production                              2030056.89  2075072.89  \n",
      "Protein supply quantity (g/capita/day)    11842.45    11833.56  \n",
      "Residuals                                 35500.00    34864.00  \n",
      "Seed                                      24870.14    25263.14  \n",
      "Stock Variation                           54316.91    20577.91  \n",
      "Total Population - Both sexes           1112641.00  1140605.00  \n",
      "Tourist consumption                          91.00       90.00  \n"
     ]
    }
   ],
   "source": [
    "print(fao_df.groupby('Element')[['Y2014','Y2015','Y2016','Y2017','Y2018']].sum())"
   ]
  },
  {
   "cell_type": "code",
   "execution_count": 49,
   "id": "1d54ca79",
   "metadata": {},
   "outputs": [
    {
     "data": {
      "text/plain": [
       "Area\n",
       "Sudan (former)               0.00\n",
       "Ethiopia PDR                 0.00\n",
       "Comoros                     59.84\n",
       "Seychelles                 442.34\n",
       "Sao Tome and Principe    12662.63\n",
       "Cabo Verde               14650.74\n",
       "Guinea-Bissau            19102.77\n",
       "Name: Y2017, dtype: float64"
      ]
     },
     "execution_count": 49,
     "metadata": {},
     "output_type": "execute_result"
    }
   ],
   "source": [
    "fao_df.groupby('Area')['Y2017'].sum().sort_values()[:7]"
   ]
  },
  {
   "cell_type": "code",
   "execution_count": 52,
   "id": "947b9f13",
   "metadata": {},
   "outputs": [
    {
     "data": {
      "text/plain": [
       "49"
      ]
     },
     "execution_count": 52,
     "metadata": {},
     "output_type": "execute_result"
    }
   ],
   "source": [
    "fao_df['Area'].nunique()"
   ]
  },
  {
   "cell_type": "code",
   "execution_count": null,
   "id": "6cb02411",
   "metadata": {},
   "outputs": [],
   "source": []
  },
  {
   "cell_type": "code",
   "execution_count": null,
   "id": "a3679900",
   "metadata": {},
   "outputs": [],
   "source": []
  },
  {
   "cell_type": "code",
   "execution_count": null,
   "id": "50472e3a",
   "metadata": {},
   "outputs": [],
   "source": []
  }
 ],
 "metadata": {
  "kernelspec": {
   "display_name": "Python 3 (ipykernel)",
   "language": "python",
   "name": "python3"
  },
  "language_info": {
   "codemirror_mode": {
    "name": "ipython",
    "version": 3
   },
   "file_extension": ".py",
   "mimetype": "text/x-python",
   "name": "python",
   "nbconvert_exporter": "python",
   "pygments_lexer": "ipython3",
   "version": "3.9.16"
  }
 },
 "nbformat": 4,
 "nbformat_minor": 5
}
